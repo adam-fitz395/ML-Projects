{
 "cells": [
  {
   "metadata": {},
   "cell_type": "markdown",
   "source": "## Imports",
   "id": "6c02ef1e284d4630"
  },
  {
   "cell_type": "code",
   "id": "initial_id",
   "metadata": {
    "collapsed": true,
    "ExecuteTime": {
     "end_time": "2025-01-23T09:07:32.271319Z",
     "start_time": "2025-01-23T09:07:32.265804Z"
    }
   },
   "source": [
    "import pandas as pd\n",
    "from sklearn.naive_bayes import MultinomialNB\n",
    "from sklearn.model_selection import train_test_split\n",
    "from sklearn.metrics import accuracy_score, classification_report, confusion_matrix"
   ],
   "outputs": [],
   "execution_count": 8
  },
  {
   "metadata": {},
   "cell_type": "markdown",
   "source": [
    "## Data Pre-Processing\n",
    "The data for this model can be found [here](https://archive.ics.uci.edu/dataset/158/poker+hand)."
   ],
   "id": "148ff4b417e3c33d"
  },
  {
   "metadata": {
    "ExecuteTime": {
     "end_time": "2025-01-23T09:07:32.778584Z",
     "start_time": "2025-01-23T09:07:32.327395Z"
    }
   },
   "cell_type": "code",
   "source": [
    "df = pd.read_csv('poker-hand-testing.csv')\n",
    "df.columns=['Suit 1', 'Card 1', 'Suit 2', 'Card 2', 'Suit 3', 'Card 3', 'Suit 4', 'Card 4', 'Suit 5','Card 5', 'Poker Hand']\n",
    "df.dropna(axis=\"rows\", inplace=True)\n",
    "df.head()\n",
    "\n",
    "actions = ['Bet', 'Call', 'Check', 'Raise', 'Fold']"
   ],
   "id": "b67bb42bc6f3e632",
   "outputs": [
    {
     "data": {
      "text/plain": [
       "   Suit 1  Card 1  Suit 2  Card 2  Suit 3  Card 3  Suit 4  Card 4  Suit 5  \\\n",
       "0       3      12       3       2       3      11       4       5       2   \n",
       "1       1       9       4       6       1       4       3       2       3   \n",
       "2       1       4       3      13       2      13       2       1       3   \n",
       "3       3      10       2       7       1       2       2      11       4   \n",
       "4       1       3       4       5       3       4       1      12       4   \n",
       "\n",
       "   Card 5  Poker Hand  \n",
       "0       5           1  \n",
       "1       9           1  \n",
       "2       6           1  \n",
       "3       9           0  \n",
       "4       6           0  "
      ],
      "text/html": [
       "<div>\n",
       "<style scoped>\n",
       "    .dataframe tbody tr th:only-of-type {\n",
       "        vertical-align: middle;\n",
       "    }\n",
       "\n",
       "    .dataframe tbody tr th {\n",
       "        vertical-align: top;\n",
       "    }\n",
       "\n",
       "    .dataframe thead th {\n",
       "        text-align: right;\n",
       "    }\n",
       "</style>\n",
       "<table border=\"1\" class=\"dataframe\">\n",
       "  <thead>\n",
       "    <tr style=\"text-align: right;\">\n",
       "      <th></th>\n",
       "      <th>Suit 1</th>\n",
       "      <th>Card 1</th>\n",
       "      <th>Suit 2</th>\n",
       "      <th>Card 2</th>\n",
       "      <th>Suit 3</th>\n",
       "      <th>Card 3</th>\n",
       "      <th>Suit 4</th>\n",
       "      <th>Card 4</th>\n",
       "      <th>Suit 5</th>\n",
       "      <th>Card 5</th>\n",
       "      <th>Poker Hand</th>\n",
       "    </tr>\n",
       "  </thead>\n",
       "  <tbody>\n",
       "    <tr>\n",
       "      <th>0</th>\n",
       "      <td>3</td>\n",
       "      <td>12</td>\n",
       "      <td>3</td>\n",
       "      <td>2</td>\n",
       "      <td>3</td>\n",
       "      <td>11</td>\n",
       "      <td>4</td>\n",
       "      <td>5</td>\n",
       "      <td>2</td>\n",
       "      <td>5</td>\n",
       "      <td>1</td>\n",
       "    </tr>\n",
       "    <tr>\n",
       "      <th>1</th>\n",
       "      <td>1</td>\n",
       "      <td>9</td>\n",
       "      <td>4</td>\n",
       "      <td>6</td>\n",
       "      <td>1</td>\n",
       "      <td>4</td>\n",
       "      <td>3</td>\n",
       "      <td>2</td>\n",
       "      <td>3</td>\n",
       "      <td>9</td>\n",
       "      <td>1</td>\n",
       "    </tr>\n",
       "    <tr>\n",
       "      <th>2</th>\n",
       "      <td>1</td>\n",
       "      <td>4</td>\n",
       "      <td>3</td>\n",
       "      <td>13</td>\n",
       "      <td>2</td>\n",
       "      <td>13</td>\n",
       "      <td>2</td>\n",
       "      <td>1</td>\n",
       "      <td>3</td>\n",
       "      <td>6</td>\n",
       "      <td>1</td>\n",
       "    </tr>\n",
       "    <tr>\n",
       "      <th>3</th>\n",
       "      <td>3</td>\n",
       "      <td>10</td>\n",
       "      <td>2</td>\n",
       "      <td>7</td>\n",
       "      <td>1</td>\n",
       "      <td>2</td>\n",
       "      <td>2</td>\n",
       "      <td>11</td>\n",
       "      <td>4</td>\n",
       "      <td>9</td>\n",
       "      <td>0</td>\n",
       "    </tr>\n",
       "    <tr>\n",
       "      <th>4</th>\n",
       "      <td>1</td>\n",
       "      <td>3</td>\n",
       "      <td>4</td>\n",
       "      <td>5</td>\n",
       "      <td>3</td>\n",
       "      <td>4</td>\n",
       "      <td>1</td>\n",
       "      <td>12</td>\n",
       "      <td>4</td>\n",
       "      <td>6</td>\n",
       "      <td>0</td>\n",
       "    </tr>\n",
       "  </tbody>\n",
       "</table>\n",
       "</div>"
      ]
     },
     "execution_count": 9,
     "metadata": {},
     "output_type": "execute_result"
    }
   ],
   "execution_count": 9
  },
  {
   "metadata": {},
   "cell_type": "markdown",
   "source": "## Fit Data",
   "id": "91c66c5e3d5d1e0e"
  },
  {
   "metadata": {
    "ExecuteTime": {
     "end_time": "2025-01-23T09:07:33.395196Z",
     "start_time": "2025-01-23T09:07:32.821284Z"
    }
   },
   "cell_type": "code",
   "source": [
    "X = df[['Suit 1', 'Card 1', 'Suit 2', 'Card 2', 'Suit 3', 'Card 3', 'Suit 4', 'Card 4', 'Suit 5','Card 5']]\n",
    "y = df['Poker Hand']\n",
    "\n",
    "X_train, X_test, y_train, y_test = train_test_split(X, y, test_size=0.4)\n",
    "\n",
    "nb = MultinomialNB()\n",
    "nb.fit(X_train, y_train)\n",
    "\n",
    "y_pred = nb.predict(X_test)"
   ],
   "id": "97d3a29bad36a437",
   "outputs": [],
   "execution_count": 10
  },
  {
   "metadata": {},
   "cell_type": "markdown",
   "source": "## Predictions",
   "id": "7698a4d70797fa81"
  },
  {
   "metadata": {
    "ExecuteTime": {
     "end_time": "2025-01-23T09:07:33.646834Z",
     "start_time": "2025-01-23T09:07:33.515567Z"
    }
   },
   "cell_type": "code",
   "source": [
    "print(\"Accuracy:\", accuracy_score(y_test, y_pred))\n",
    "print(\"Classification Report:\\n\", classification_report(y_test, y_pred))\n",
    "print(\"Confusion Matrix:\\n\", confusion_matrix(y_test, y_pred))"
   ],
   "id": "257b7e05162d5813",
   "outputs": [
    {
     "name": "stdout",
     "output_type": "stream",
     "text": [
      "Accuracy: 0.500755\n",
      "Classification Report:\n",
      "               precision    recall  f1-score   support\n",
      "\n",
      "           0       0.50      1.00      0.67    200302\n",
      "           1       0.00      0.00      0.00    169279\n",
      "           2       0.00      0.00      0.00     18970\n",
      "           3       0.00      0.00      0.00      8482\n",
      "           4       0.00      0.00      0.00      1525\n",
      "           5       0.00      0.00      0.00       785\n",
      "           6       0.00      0.00      0.00       572\n",
      "           7       0.00      0.00      0.00        81\n",
      "           8       0.00      0.00      0.00         4\n",
      "\n",
      "    accuracy                           0.50    400000\n",
      "   macro avg       0.06      0.11      0.07    400000\n",
      "weighted avg       0.25      0.50      0.33    400000\n",
      "\n",
      "Confusion Matrix:\n",
      " [[200302      0      0      0      0      0      0      0      0]\n",
      " [169279      0      0      0      0      0      0      0      0]\n",
      " [ 18970      0      0      0      0      0      0      0      0]\n",
      " [  8482      0      0      0      0      0      0      0      0]\n",
      " [  1525      0      0      0      0      0      0      0      0]\n",
      " [   785      0      0      0      0      0      0      0      0]\n",
      " [   572      0      0      0      0      0      0      0      0]\n",
      " [    81      0      0      0      0      0      0      0      0]\n",
      " [     4      0      0      0      0      0      0      0      0]]\n"
     ]
    },
    {
     "name": "stderr",
     "output_type": "stream",
     "text": [
      "/home/adamfitz395/.local/lib/python3.10/site-packages/sklearn/metrics/_classification.py:1531: UndefinedMetricWarning: Precision is ill-defined and being set to 0.0 in labels with no predicted samples. Use `zero_division` parameter to control this behavior.\n",
      "  _warn_prf(average, modifier, f\"{metric.capitalize()} is\", len(result))\n",
      "/home/adamfitz395/.local/lib/python3.10/site-packages/sklearn/metrics/_classification.py:1531: UndefinedMetricWarning: Precision is ill-defined and being set to 0.0 in labels with no predicted samples. Use `zero_division` parameter to control this behavior.\n",
      "  _warn_prf(average, modifier, f\"{metric.capitalize()} is\", len(result))\n",
      "/home/adamfitz395/.local/lib/python3.10/site-packages/sklearn/metrics/_classification.py:1531: UndefinedMetricWarning: Precision is ill-defined and being set to 0.0 in labels with no predicted samples. Use `zero_division` parameter to control this behavior.\n",
      "  _warn_prf(average, modifier, f\"{metric.capitalize()} is\", len(result))\n"
     ]
    }
   ],
   "execution_count": 11
  }
 ],
 "metadata": {
  "kernelspec": {
   "display_name": "Python 3",
   "language": "python",
   "name": "python3"
  },
  "language_info": {
   "codemirror_mode": {
    "name": "ipython",
    "version": 2
   },
   "file_extension": ".py",
   "mimetype": "text/x-python",
   "name": "python",
   "nbconvert_exporter": "python",
   "pygments_lexer": "ipython2",
   "version": "2.7.6"
  }
 },
 "nbformat": 4,
 "nbformat_minor": 5
}
