{
 "cells": [
  {
   "metadata": {},
   "cell_type": "markdown",
   "source": "# Road Accident Prediction\n",
   "id": "2a5aa0138f06175d"
  },
  {
   "metadata": {},
   "cell_type": "markdown",
   "source": [
    "## Imports\n",
    "This section contains all the required imports for this Jupyter Notebook. The data for this model can be found [here](https://www.kaggle.com/datasets/xavierberge/road-accident-dataset)."
   ],
   "id": "6397c7512362431a"
  },
  {
   "metadata": {
    "ExecuteTime": {
     "end_time": "2025-02-18T13:45:31.397601Z",
     "start_time": "2025-02-18T13:45:31.394503Z"
    }
   },
   "cell_type": "code",
   "source": [
    "import pandas as pd\n",
    "from sklearn.naive_bayes import CategoricalNB, GaussianNB\n",
    "from sklearn.model_selection import train_test_split\n",
    "from sklearn.metrics import accuracy_score, classification_report, f1_score, recall_score, precision_score\n",
    "from imblearn.over_sampling import SMOTE\n",
    "from sklearn.preprocessing import OrdinalEncoder\n",
    "import ipywidgets as widgets"
   ],
   "id": "2f1ff5bbbfdc6d99",
   "outputs": [],
   "execution_count": 29
  },
  {
   "metadata": {},
   "cell_type": "markdown",
   "source": [
    "## Data Pre-Processing\n",
    "Once the data has been downloaded we import it using Pandas. After importing we drop all rows that contain a NaN value. After this we drop all columns that contain irrelevant information."
   ],
   "id": "27dac6f33d0c10b6"
  },
  {
   "metadata": {
    "ExecuteTime": {
     "end_time": "2025-02-18T14:55:18.182545Z",
     "start_time": "2025-02-18T14:55:17.327220Z"
    }
   },
   "cell_type": "code",
   "source": [
    "df = pd.read_csv('Road Accident Data.csv', dtype = str)\n",
    "\n",
    "df = df.dropna(axis=0)\n",
    "\n",
    "df = df.drop('Accident_Index', axis=1)\n",
    "df = df.drop('Accident Date', axis=1)\n",
    "df = df.drop('Month', axis=1)\n",
    "df = df.drop('Year', axis=1)\n",
    "df = df.drop('Day_of_Week', axis=1)\n",
    "df = df.drop('Junction_Control', axis=1)\n",
    "df = df.drop('Junction_Detail', axis=1)\n",
    "\n",
    "df.head()\n",
    "# Get the number of rows and columns\n",
    "rows = len(df.axes[0])\n",
    "cols = len(df.axes[1])\n",
    "\n",
    "# Print the number of rows and columns\n",
    "print(\"Number of Rows: \" + str(rows))\n",
    "print(\"Number of Columns: \" + str(cols))\n",
    "\n",
    "print(df['Light_Conditions'].value_counts())\n",
    "print(df['Accident_Severity'].value_counts())\n",
    "\n",
    "print(df['Road_Surface_Conditions'].value_counts())"
   ],
   "id": "c9f69c40e4df4983",
   "outputs": [
    {
     "name": "stdout",
     "output_type": "stream",
     "text": [
      "Number of Rows: 5305\n",
      "Number of Columns: 23\n",
      "Number of Rows: 5305\n",
      "Number of Columns: 16\n",
      "Light_Conditions\n",
      "Daylight                       3286\n",
      "Darkness - no lighting         1028\n",
      "Darkness - lights lit           907\n",
      "Darkness - lighting unknown      50\n",
      "Darkness - lights unlit          34\n",
      "Name: count, dtype: int64\n",
      "Accident_Severity\n",
      "Slight     4461\n",
      "Serious     771\n",
      "Fatal        73\n",
      "Name: count, dtype: int64\n",
      "Road_Surface_Conditions\n",
      "Dry                     3248\n",
      "Wet or damp             1665\n",
      "Frost or ice             270\n",
      "Snow                     104\n",
      "Flood over 3cm. deep      18\n",
      "Name: count, dtype: int64\n"
     ]
    }
   ],
   "execution_count": 35
  },
  {
   "metadata": {},
   "cell_type": "markdown",
   "source": [
    "## Model Fitting\n",
    "The first thing we do when fitting our data to the model is sort the data into our **dependant** and **independent** variables, that is to say the value we wish to predict and the values we are going to use to make this prediction. Once the data is sorted we encode it using an **ordinal encoder**. This encoder takes our categorical data and gives it a numerical representation. Due to the fact that value counts of the dependant variable are so drastically different, we use the **Synthetic Minority Oversampling Technique (SMOTE)** to generate new instances of our minority values (Serious and Fatal accidents). This allows us to balance the class distribution and helps us when determining the accuracy of our model. After the data has been encoded and smote is applied, we split it into **training** and **testing** data. The training data is the data we use to train our model to make predictions by giving it the independent variables and their corresponding dependant variable. The testing data is the data we use to test how well the model makes predictions. We do this by giving it the independent variables and making it predict the dependant variable. The data is split into 20% training and 80% testing respectively. Finally we fit both the training and test data to the model."
   ],
   "id": "2a0f3525ad664ddf"
  },
  {
   "metadata": {
    "ExecuteTime": {
     "end_time": "2025-02-18T13:45:32.293783Z",
     "start_time": "2025-02-18T13:45:32.266556Z"
    }
   },
   "cell_type": "code",
   "source": [
    "X = df[['Light_Conditions', 'Road_Surface_Conditions', 'Speed_limit', 'Urban_or_Rural_Area', 'Weather_Conditions', 'Vehicle_Type']]\n",
    "y = df['Accident_Severity']\n",
    "\n",
    "# Encode data numerically to deal with categorical data values\n",
    "encoder = OrdinalEncoder()\n",
    "X_encoded = encoder.fit_transform(X)\n",
    "\n",
    "# Synthetic Minority Oversampling Technique - Generates new minority instances to balance class distribution\n",
    "smote = SMOTE(sampling_strategy=\"not majority\", random_state=42) # Do not sample majority, no need as it is imbalanced\n",
    "X_resampled, y_resampled = smote.fit_resample(X_encoded, y)\n",
    "\n",
    "X_train, X_test, y_train, y_test = train_test_split(X_resampled, y_resampled, test_size=0.8, random_state=42)\n",
    "\n",
    "cnb = CategoricalNB()\n",
    "cnb.fit(X_train, y_train)\n",
    "y_pred = cnb.predict(X_test)"
   ],
   "id": "79e9c509c38d80b9",
   "outputs": [],
   "execution_count": 31
  },
  {
   "metadata": {},
   "cell_type": "markdown",
   "source": [
    "## Predictions\n",
    "In this section you can predict the severity of a car accident based on the independent variables. Each dropdown contains a list of values pertaining to a specific independent variable. Once all desired options have been selected, you may hit the \"Predict Severity\" button to see what the severity of an accident is predicted to be based on the given factors."
   ],
   "id": "c6f4348b5d0e7686"
  },
  {
   "metadata": {
    "ExecuteTime": {
     "end_time": "2025-02-18T13:46:15.759232Z",
     "start_time": "2025-02-18T13:46:15.541762Z"
    }
   },
   "cell_type": "code",
   "source": [
    "surface_conditions = df['Road_Surface_Conditions'].dropna().unique()\n",
    "light_conditions = df['Light_Conditions'].dropna().unique()\n",
    "speed_limits = df['Speed_limit'].dropna().unique()\n",
    "urbanOrRural = df['Urban_or_Rural_Area'].dropna().unique()\n",
    "weatherConditions = df['Weather_Conditions'].dropna().unique()\n",
    "vehicleType = df['Vehicle_Type'].dropna().unique()\n",
    "\n",
    "# Create dropdown widgets\n",
    "surface_dropdown = widgets.Dropdown(\n",
    "    options=surface_conditions,\n",
    "    description=\"Road Surface:\",\n",
    "    value=surface_conditions[0]  # Default value\n",
    ")\n",
    "\n",
    "light_dropdown = widgets.Dropdown(\n",
    "    options=light_conditions,\n",
    "    description=\"Light Conditions:\",\n",
    "    value=light_conditions[0]\n",
    ")\n",
    "\n",
    "speed_dropdown = widgets.Dropdown(\n",
    "    options=sorted(speed_limits),  # Sort numerical values\n",
    "    description=\"Speed Limit:\",\n",
    "    value=speed_limits[0]\n",
    ")\n",
    "\n",
    "urban_dropdown = widgets.Dropdown(\n",
    "    options=urbanOrRural,\n",
    "    description=\"Urban or Rural Area:\",\n",
    "    value=urbanOrRural[0]\n",
    ")\n",
    "\n",
    "weather_dropdown = widgets.Dropdown(\n",
    "    options=weatherConditions,\n",
    "    description=\"Weather Conditions:\",\n",
    "    value=weatherConditions[0]\n",
    ")\n",
    "\n",
    "vehicleType_dropdown = widgets.Dropdown(\n",
    "    options=vehicleType,\n",
    "    description=\"Vehicle Type:\",\n",
    "    value=vehicleType[0]\n",
    ")\n",
    "\n",
    "text = widgets.Text()\n",
    "\n",
    "def predict_severity(b):\n",
    "    # Collect values from dropdowns (no Road_Type)\n",
    "    input_data = pd.DataFrame([[\n",
    "        light_dropdown.value,       # Light_Conditions\n",
    "        surface_dropdown.value,     # Road_Surface_Conditions\n",
    "        speed_dropdown.value,       # Speed_limit\n",
    "        urban_dropdown.value,       # Urban_or_Rural_Area\n",
    "        weather_dropdown.value,     # Weather_Conditions\n",
    "        vehicleType_dropdown.value  # Vehicle_Type\n",
    "    ]], columns=[\n",
    "        'Light_Conditions',\n",
    "        'Road_Surface_Conditions',\n",
    "        'Speed_limit',\n",
    "        'Urban_or_Rural_Area',\n",
    "        'Weather_Conditions',\n",
    "        'Vehicle_Type'\n",
    "    ])\n",
    "\n",
    "    # Encode and predict\n",
    "    input_encoded = encoder.transform(input_data)\n",
    "    prediction = cnb.predict(input_encoded)\n",
    "    text.value = f\"Predicted Severity: {prediction[0]}\"\n",
    "\n",
    "# Display the widgets\n",
    "display(surface_dropdown, light_dropdown, speed_dropdown, urban_dropdown, weather_dropdown, vehicleType_dropdown, text)\n",
    "\n",
    "predict_button = widgets.Button(description=\"Predict Severity\")\n",
    "predict_button.on_click(predict_severity)\n",
    "display(predict_button)\n",
    "\n",
    "# Calculate metrics\n",
    "accuracy = accuracy_score(y_test, y_pred)\n",
    "report = classification_report(y_test, y_pred)\n",
    "f1 = f1_score(y_test, y_pred, average='weighted')\n",
    "recall = recall_score(y_test, y_pred, average='weighted')\n",
    "precision = precision_score(y_test, y_pred, average='weighted')\n",
    "\n",
    "# Print the metrics\n",
    "print(\"\\nClassification Report:\")\n",
    "print(report)\n",
    "print(\"F1 Score:\", f1)\n",
    "print(\"Recall Score:\", recall)\n",
    "print(\"Precision Score:\", precision)\n",
    "print(\"Accuracy Score:\", accuracy)"
   ],
   "id": "fe4433be0624467c",
   "outputs": [
    {
     "data": {
      "text/plain": [
       "Dropdown(description='Road Surface:', options=('Dry', 'Wet or damp', 'Frost or ice', 'Snow', 'Flood over 3cm. …"
      ],
      "application/vnd.jupyter.widget-view+json": {
       "version_major": 2,
       "version_minor": 0,
       "model_id": "bbfe2a56522a41049029ebdcfcf83f2a"
      }
     },
     "metadata": {},
     "output_type": "display_data"
    },
    {
     "data": {
      "text/plain": [
       "Dropdown(description='Light Conditions:', options=('Daylight', 'Darkness - lights lit', 'Darkness - no lightin…"
      ],
      "application/vnd.jupyter.widget-view+json": {
       "version_major": 2,
       "version_minor": 0,
       "model_id": "7133bc45fb10481a80e3c4cab51d3ea5"
      }
     },
     "metadata": {},
     "output_type": "display_data"
    },
    {
     "data": {
      "text/plain": [
       "Dropdown(description='Speed Limit:', index=1, options=('20', '30', '40', '50', '60', '70'), value='30')"
      ],
      "application/vnd.jupyter.widget-view+json": {
       "version_major": 2,
       "version_minor": 0,
       "model_id": "bd671b1ddb5545e495fbdab055f497b6"
      }
     },
     "metadata": {},
     "output_type": "display_data"
    },
    {
     "data": {
      "text/plain": [
       "Dropdown(description='Urban or Rural Area:', options=('Urban', 'Rural'), value='Urban')"
      ],
      "application/vnd.jupyter.widget-view+json": {
       "version_major": 2,
       "version_minor": 0,
       "model_id": "5caaeb11bf6c4f56ba107223f0cb7a2a"
      }
     },
     "metadata": {},
     "output_type": "display_data"
    },
    {
     "data": {
      "text/plain": [
       "Dropdown(description='Weather Conditions:', options=('Fine no high winds', 'Raining no high winds', 'Other', '…"
      ],
      "application/vnd.jupyter.widget-view+json": {
       "version_major": 2,
       "version_minor": 0,
       "model_id": "ff123f8642bd4129a13b9e0ffaaeec93"
      }
     },
     "metadata": {},
     "output_type": "display_data"
    },
    {
     "data": {
      "text/plain": [
       "Dropdown(description='Vehicle Type:', options=('Car', 'Bus or coach (17 or more pass seats)', 'Van / Goods 3.5…"
      ],
      "application/vnd.jupyter.widget-view+json": {
       "version_major": 2,
       "version_minor": 0,
       "model_id": "60b0d1a5462c413ea60a6d05238acf04"
      }
     },
     "metadata": {},
     "output_type": "display_data"
    },
    {
     "data": {
      "text/plain": [
       "Text(value='')"
      ],
      "application/vnd.jupyter.widget-view+json": {
       "version_major": 2,
       "version_minor": 0,
       "model_id": "a2e3473e1aa74005b55bb046985a6fec"
      }
     },
     "metadata": {},
     "output_type": "display_data"
    },
    {
     "data": {
      "text/plain": [
       "Button(description='Predict Severity', style=ButtonStyle())"
      ],
      "application/vnd.jupyter.widget-view+json": {
       "version_major": 2,
       "version_minor": 0,
       "model_id": "8ebaf95e15c846b682e12b213d7df27d"
      }
     },
     "metadata": {},
     "output_type": "display_data"
    },
    {
     "name": "stdout",
     "output_type": "stream",
     "text": [
      "\n",
      "Classification Report:\n",
      "              precision    recall  f1-score   support\n",
      "\n",
      "       Fatal       0.54      0.74      0.63      3568\n",
      "     Serious       0.41      0.31      0.35      3529\n",
      "      Slight       0.54      0.47      0.50      3610\n",
      "\n",
      "    accuracy                           0.51     10707\n",
      "   macro avg       0.50      0.51      0.49     10707\n",
      "weighted avg       0.50      0.51      0.50     10707\n",
      "\n",
      "F1 Score: 0.4950107374667772\n",
      "Recall Score: 0.5084524143083964\n",
      "Precision Score: 0.49806249734853636\n",
      "Accuracy Score: 0.5084524143083964\n"
     ]
    }
   ],
   "execution_count": 34
  }
 ],
 "metadata": {
  "kernelspec": {
   "display_name": "Python 3",
   "language": "python",
   "name": "python3"
  },
  "language_info": {
   "codemirror_mode": {
    "name": "ipython",
    "version": 2
   },
   "file_extension": ".py",
   "mimetype": "text/x-python",
   "name": "python",
   "nbconvert_exporter": "python",
   "pygments_lexer": "ipython2",
   "version": "2.7.6"
  }
 },
 "nbformat": 4,
 "nbformat_minor": 5
}
