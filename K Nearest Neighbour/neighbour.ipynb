{
 "cells": [
  {
   "metadata": {},
   "cell_type": "markdown",
   "source": "## Imports",
   "id": "4a54c48418802722"
  },
  {
   "metadata": {
    "ExecuteTime": {
     "end_time": "2025-02-26T21:32:29.614985Z",
     "start_time": "2025-02-26T21:32:29.611511Z"
    }
   },
   "cell_type": "code",
   "source": [
    "import pandas as pd\n",
    "from imblearn.over_sampling import SMOTE\n",
    "from sklearn.model_selection import train_test_split\n",
    "from sklearn.preprocessing import StandardScaler, LabelEncoder\n",
    "from sklearn.neighbors import KNeighborsClassifier\n",
    "from sklearn.metrics import accuracy_score, classification_report"
   ],
   "id": "6c9108f26313a2fc",
   "outputs": [],
   "execution_count": 175
  },
  {
   "metadata": {},
   "cell_type": "markdown",
   "source": [
    "## Data Pre-processing\n",
    "Data can be found [here](https://archive.ics.uci.edu/dataset/542/internet+firewall+data)"
   ],
   "id": "8b570f470a1d448"
  },
  {
   "cell_type": "code",
   "id": "initial_id",
   "metadata": {
    "collapsed": true,
    "ExecuteTime": {
     "end_time": "2025-02-26T21:32:29.667885Z",
     "start_time": "2025-02-26T21:32:29.617980Z"
    }
   },
   "source": [
    "# Load Data\n",
    "df = pd.read_csv('log2.csv')\n",
    "\n",
    "# Map Ports to Services\n",
    "port_to_service = {53: \"DNS\", 80: \"HTTP\", 443: \"HTTPS\", 3389: \"RDP\", 22: \"SSH\", 123: \"NTP\"}\n",
    "df[\"TrafficType\"] = df[\"Destination Port\"].map(port_to_service).fillna(\"Unknown\")\n",
    "\n",
    "# Encode TrafficType\n",
    "le = LabelEncoder()\n",
    "df[\"TrafficType\"] = le.fit_transform(df[\"TrafficType\"])\n",
    "\n",
    "# Drop Irrelevant Columns\n",
    "df = df.drop([\"Source Port\", \"Destination Port\", \"NAT Source Port\", \"NAT Destination Port\", \"Action\"], axis=1)"
   ],
   "outputs": [],
   "execution_count": 176
  },
  {
   "metadata": {},
   "cell_type": "markdown",
   "source": "## Model Fitting",
   "id": "4e807eae605b0e3"
  },
  {
   "metadata": {
    "ExecuteTime": {
     "end_time": "2025-02-26T21:32:30.745953Z",
     "start_time": "2025-02-26T21:32:29.686028Z"
    }
   },
   "cell_type": "code",
   "source": [
    "# Features and Target\n",
    "X = df.drop([\"TrafficType\"], axis=1)\n",
    "y = df[\"TrafficType\"]\n",
    "\n",
    "# Split Data\n",
    "X_train, X_test, y_train, y_test = train_test_split(X, y, train_size=0.3)\n",
    "\n",
    "# Apply SMOTE\n",
    "smote = SMOTE(sampling_strategy=\"auto\")  # Balance all classes\n",
    "X_train_resampled, y_train_resampled = smote.fit_resample(X_train, y_train)\n",
    "\n",
    "# Scale Data\n",
    "scaler = StandardScaler()\n",
    "X_train_scaled = scaler.fit_transform(X_train_resampled)\n",
    "X_test_scaled = scaler.transform(X_test)\n",
    "\n",
    "# Train KNN\n",
    "knn = KNeighborsClassifier(n_neighbors=3, weights=\"distance\")\n",
    "knn.fit(X_train_scaled, y_train_resampled)\n",
    "y_pred = knn.predict(X_test_scaled)"
   ],
   "id": "36a683b1ef39b7bc",
   "outputs": [],
   "execution_count": 177
  },
  {
   "metadata": {},
   "cell_type": "markdown",
   "source": "## Prediction",
   "id": "6bc3a835679517da"
  },
  {
   "metadata": {
    "ExecuteTime": {
     "end_time": "2025-02-26T21:32:31.308746Z",
     "start_time": "2025-02-26T21:32:30.762951Z"
    }
   },
   "cell_type": "code",
   "source": [
    "# Decode Predictions\n",
    "y_pred_labels = le.inverse_transform(y_pred)\n",
    "y_test_labels = le.inverse_transform(y_test)\n",
    "\n",
    "# Evaluate\n",
    "print(classification_report(y_test_labels, y_pred_labels))\n",
    "print(\"Accuracy Score:\", accuracy_score(y_test_labels, y_pred_labels))"
   ],
   "id": "805cf2edca488ca9",
   "outputs": [
    {
     "name": "stdout",
     "output_type": "stream",
     "text": [
      "              precision    recall  f1-score   support\n",
      "\n",
      "         DNS       0.98      0.98      0.98     10869\n",
      "        HTTP       0.63      0.75      0.69      2787\n",
      "       HTTPS       0.88      0.84      0.86      8179\n",
      "         NTP       0.67      0.05      0.09       118\n",
      "         RDP       0.44      0.72      0.54       134\n",
      "         SSH       0.16      0.20      0.18        76\n",
      "     Unknown       0.98      0.97      0.98     23710\n",
      "\n",
      "    accuracy                           0.93     45873\n",
      "   macro avg       0.68      0.64      0.62     45873\n",
      "weighted avg       0.94      0.93      0.93     45873\n",
      "\n",
      "Accuracy Score: 0.9342968630784994\n"
     ]
    }
   ],
   "execution_count": 178
  }
 ],
 "metadata": {
  "kernelspec": {
   "display_name": "Python 3",
   "language": "python",
   "name": "python3"
  },
  "language_info": {
   "codemirror_mode": {
    "name": "ipython",
    "version": 2
   },
   "file_extension": ".py",
   "mimetype": "text/x-python",
   "name": "python",
   "nbconvert_exporter": "python",
   "pygments_lexer": "ipython2",
   "version": "2.7.6"
  }
 },
 "nbformat": 4,
 "nbformat_minor": 5
}
