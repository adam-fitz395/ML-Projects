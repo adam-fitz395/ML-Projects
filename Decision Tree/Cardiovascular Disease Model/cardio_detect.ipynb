{
 "cells": [
  {
   "cell_type": "markdown",
   "metadata": {},
   "source": [
    "# Decision Tree"
   ]
  },
  {
   "cell_type": "markdown",
   "metadata": {},
   "source": [
    "## Imports\n",
    "In this section we import the libraries necessary to analyse and process our data."
   ]
  },
  {
   "cell_type": "code",
   "execution_count": 55,
   "metadata": {
    "ExecuteTime": {
     "end_time": "2024-11-24T19:03:39.902367Z",
     "start_time": "2024-11-24T19:03:39.899102Z"
    }
   },
   "outputs": [],
   "source": [
    "import pandas as pd\n",
    "from sklearn.model_selection import train_test_split\n",
    "from sklearn.ensemble import RandomForestClassifier\n",
    "from sklearn.preprocessing import LabelEncoder\n",
    "from sklearn.metrics import precision_score, recall_score, f1_score, accuracy_score, ConfusionMatrixDisplay, confusion_matrix\n",
    "import matplotlib.pyplot as plt"
   ]
  },
  {
   "cell_type": "markdown",
   "metadata": {},
   "source": [
    "## Import & Pre-process Data\n",
    "The first thing we do is read in our data. This data can be found at https://www.kaggle.com/datasets/sulianova/cardiovascular-disease-dataset/data. Once we've done this we drop all rows with empty values and the `id` column as it is not necessary for our pre-processing. After dropping, we take the `weight`, `height`, `ap_hi`, `ap_low` and `age` columns and convert them to be categorical.\n",
    "\n",
    "For the `weight` and `height` columns, we categorize them by using the values to calculate and create the `BMI` column and then categorizing those values. To do this we first divide the values in the `height` column by 100 to get the values in meters, putting them into the new `heights_m` column. Once this is done we get our `BMI` values using the sum `df['weight'] / (df['height_m'] ** 2)`. After this we drop the `heights_m` column as it is no longer needed.\n",
    "\n",
    "With the `ap_hi` and `ap_low` columns we first get the average blood pressure by getting the mean value of the two columns combined. After this we categorize the data with a \"High\" blood pressure being above 120, \"Medium\" being between 80 and 120 and 'Low' being under 80.\n",
    "\n",
    "For the `ages` column we first divide the column by 365 to convert the data from days into years. After this we once again split the data into the categories \"Under 18\", \"18 - 21\", \"21 - 40\", \"41 - 60\", \"61 - 80\" and \"80+\".\n",
    "\n",
    "Finally, we use a LabelEncoder to convert our categorical labels into numerical labels. This is important as some of our data is ordinal (has an inherent order, for example `bp_category` has \"Low\", \"Normal\" and \"High\" categories which could be placed in a specific order). Once our ordinal categories have been encoded we drop any data that will not be used from this point (`age`, `gender`, `height`, `weight`, `ap_hi` and `ap_lo`).\n",
    "\n"
   ]
  },
  {
   "cell_type": "code",
   "execution_count": 56,
   "metadata": {
    "ExecuteTime": {
     "end_time": "2024-11-24T19:03:40.008471Z",
     "start_time": "2024-11-24T19:03:39.906374Z"
    }
   },
   "outputs": [
    {
     "data": {
      "text/html": [
       "<div>\n",
       "<style scoped>\n",
       "    .dataframe tbody tr th:only-of-type {\n",
       "        vertical-align: middle;\n",
       "    }\n",
       "\n",
       "    .dataframe tbody tr th {\n",
       "        vertical-align: top;\n",
       "    }\n",
       "\n",
       "    .dataframe thead th {\n",
       "        text-align: right;\n",
       "    }\n",
       "</style>\n",
       "<table border=\"1\" class=\"dataframe\">\n",
       "  <thead>\n",
       "    <tr style=\"text-align: right;\">\n",
       "      <th></th>\n",
       "      <th>cholesterol</th>\n",
       "      <th>gluc</th>\n",
       "      <th>smoke</th>\n",
       "      <th>alco</th>\n",
       "      <th>active</th>\n",
       "      <th>cardio</th>\n",
       "      <th>BMI</th>\n",
       "      <th>BMI_category</th>\n",
       "      <th>bp_mean</th>\n",
       "      <th>bp_category</th>\n",
       "      <th>ages_year</th>\n",
       "      <th>age_category</th>\n",
       "      <th>BMI_category_encoded</th>\n",
       "      <th>bp_category_encoded</th>\n",
       "      <th>age_category_encoded</th>\n",
       "    </tr>\n",
       "  </thead>\n",
       "  <tbody>\n",
       "    <tr>\n",
       "      <th>0</th>\n",
       "      <td>1</td>\n",
       "      <td>1</td>\n",
       "      <td>0</td>\n",
       "      <td>0</td>\n",
       "      <td>1</td>\n",
       "      <td>0</td>\n",
       "      <td>21.967120</td>\n",
       "      <td>Normal</td>\n",
       "      <td>95.0</td>\n",
       "      <td>Normal</td>\n",
       "      <td>50</td>\n",
       "      <td>41 - 60</td>\n",
       "      <td>0</td>\n",
       "      <td>2</td>\n",
       "      <td>1</td>\n",
       "    </tr>\n",
       "    <tr>\n",
       "      <th>1</th>\n",
       "      <td>3</td>\n",
       "      <td>1</td>\n",
       "      <td>0</td>\n",
       "      <td>0</td>\n",
       "      <td>1</td>\n",
       "      <td>1</td>\n",
       "      <td>34.927679</td>\n",
       "      <td>Obese</td>\n",
       "      <td>115.0</td>\n",
       "      <td>Normal</td>\n",
       "      <td>55</td>\n",
       "      <td>41 - 60</td>\n",
       "      <td>1</td>\n",
       "      <td>2</td>\n",
       "      <td>1</td>\n",
       "    </tr>\n",
       "    <tr>\n",
       "      <th>2</th>\n",
       "      <td>3</td>\n",
       "      <td>1</td>\n",
       "      <td>0</td>\n",
       "      <td>0</td>\n",
       "      <td>0</td>\n",
       "      <td>1</td>\n",
       "      <td>23.507805</td>\n",
       "      <td>Normal</td>\n",
       "      <td>100.0</td>\n",
       "      <td>Normal</td>\n",
       "      <td>51</td>\n",
       "      <td>41 - 60</td>\n",
       "      <td>0</td>\n",
       "      <td>2</td>\n",
       "      <td>1</td>\n",
       "    </tr>\n",
       "    <tr>\n",
       "      <th>3</th>\n",
       "      <td>1</td>\n",
       "      <td>1</td>\n",
       "      <td>0</td>\n",
       "      <td>0</td>\n",
       "      <td>1</td>\n",
       "      <td>1</td>\n",
       "      <td>28.710479</td>\n",
       "      <td>Overweight</td>\n",
       "      <td>125.0</td>\n",
       "      <td>High</td>\n",
       "      <td>48</td>\n",
       "      <td>41 - 60</td>\n",
       "      <td>2</td>\n",
       "      <td>0</td>\n",
       "      <td>1</td>\n",
       "    </tr>\n",
       "    <tr>\n",
       "      <th>4</th>\n",
       "      <td>1</td>\n",
       "      <td>1</td>\n",
       "      <td>0</td>\n",
       "      <td>0</td>\n",
       "      <td>0</td>\n",
       "      <td>0</td>\n",
       "      <td>23.011177</td>\n",
       "      <td>Normal</td>\n",
       "      <td>80.0</td>\n",
       "      <td>Normal</td>\n",
       "      <td>47</td>\n",
       "      <td>41 - 60</td>\n",
       "      <td>0</td>\n",
       "      <td>2</td>\n",
       "      <td>1</td>\n",
       "    </tr>\n",
       "  </tbody>\n",
       "</table>\n",
       "</div>"
      ],
      "text/plain": [
       "   cholesterol  gluc  smoke  alco  active  cardio        BMI BMI_category  \\\n",
       "0            1     1      0     0       1       0  21.967120       Normal   \n",
       "1            3     1      0     0       1       1  34.927679        Obese   \n",
       "2            3     1      0     0       0       1  23.507805       Normal   \n",
       "3            1     1      0     0       1       1  28.710479   Overweight   \n",
       "4            1     1      0     0       0       0  23.011177       Normal   \n",
       "\n",
       "   bp_mean bp_category  ages_year age_category  BMI_category_encoded  \\\n",
       "0     95.0      Normal         50      41 - 60                     0   \n",
       "1    115.0      Normal         55      41 - 60                     1   \n",
       "2    100.0      Normal         51      41 - 60                     0   \n",
       "3    125.0        High         48      41 - 60                     2   \n",
       "4     80.0      Normal         47      41 - 60                     0   \n",
       "\n",
       "   bp_category_encoded  age_category_encoded  \n",
       "0                    2                     1  \n",
       "1                    2                     1  \n",
       "2                    2                     1  \n",
       "3                    0                     1  \n",
       "4                    2                     1  "
      ]
     },
     "execution_count": 56,
     "metadata": {},
     "output_type": "execute_result"
    }
   ],
   "source": [
    "df=pd.read_csv(\"cardio_train.csv\", sep=\";\")\n",
    "\n",
    "df = df.dropna(axis=0)\n",
    "df = df.drop('id', axis=1)\n",
    "\n",
    "df['height_m'] = df['height'] / 100\n",
    "\n",
    "df['BMI'] = df['weight'] / (df['height_m'] ** 2)\n",
    "\n",
    "df = df.drop(columns=['height_m'])\n",
    "\n",
    "def categorize_bmi(bmi):\n",
    "    if bmi < 18.5:\n",
    "        return 'Underweight'\n",
    "    elif 18.5 <= bmi < 25:\n",
    "        return 'Normal'\n",
    "    elif 25 <= bmi < 30:\n",
    "        return 'Overweight'\n",
    "    else:\n",
    "        return 'Obese'\n",
    "\n",
    "df['BMI_category'] = df['BMI'].apply(categorize_bmi)\n",
    "\n",
    "df['bp_mean'] = df[['ap_hi', 'ap_lo']].mean(axis=1)\n",
    "\n",
    "def categorize_bp(mean_bp):\n",
    "    if mean_bp > 120:\n",
    "        return 'High'\n",
    "    elif mean_bp >= 80:\n",
    "        return 'Normal'\n",
    "    else:\n",
    "        return 'Low'\n",
    "\n",
    "df['bp_category'] = df['bp_mean'].apply(categorize_bp)\n",
    "\n",
    "df['ages_year'] = df['age'] // 365\n",
    "\n",
    "def categorize_age(ages_year):\n",
    "    if ages_year < 18:\n",
    "        return 'Under 18'\n",
    "    elif 18 <= ages_year <= 21:\n",
    "        return '18 - 21'\n",
    "    elif 21 < ages_year <= 40:\n",
    "        return '21 - 40'\n",
    "    elif 40 < ages_year <= 60:\n",
    "        return '41 - 60'\n",
    "    elif 60 < ages_year <= 80:\n",
    "        return '61 - 80'\n",
    "    else:\n",
    "        return '80+'\n",
    "\n",
    "df['age_category'] = df['ages_year'].apply(categorize_age)\n",
    "\n",
    "encoder = LabelEncoder()\n",
    "df['BMI_category_encoded'] = encoder.fit_transform(df['BMI_category'])\n",
    "df['bp_category_encoded'] = encoder.fit_transform(df['bp_category'])\n",
    "df['age_category_encoded'] = encoder.fit_transform(df['age_category'])\n",
    "\n",
    "df = df.drop(['age', 'gender', 'height', 'weight', 'ap_hi', 'ap_lo'], axis=1)\n",
    "\n",
    "df.head()"
   ]
  },
  {
   "cell_type": "markdown",
   "metadata": {},
   "source": [
    "## Fit Data\n",
    "Once we have processed the data we define independent (what we're using to predict) and dependant variables (what we want to predict). Once this is done we split the data into training and testing sets. We pass in the parameter `train_size` which splits our data so that 40% of the provided data for training the model, with the remaining 60% being used for testing.\n",
    "\n",
    "After this we create our Random Forest model and fit our training data to it. We then use our model to make predictions based on the provided data."
   ]
  },
  {
   "cell_type": "code",
   "execution_count": 57,
   "metadata": {
    "ExecuteTime": {
     "end_time": "2024-11-24T19:03:40.594017Z",
     "start_time": "2024-11-24T19:03:40.036165Z"
    }
   },
   "outputs": [],
   "source": [
    "X = df[['BMI_category_encoded', 'age_category_encoded',  'bp_category_encoded', 'cholesterol', 'gluc', 'smoke', 'alco', 'active']]\n",
    "Y = df['cardio']\n",
    "X_train, X_test, Y_train, Y_test = train_test_split(X, Y, train_size=0.4)\n",
    "\n",
    "tree = RandomForestClassifier()\n",
    "tree.fit(X_train, Y_train)\n",
    "\n",
    "Y_pred = tree.predict(X_test)"
   ]
  },
  {
   "cell_type": "markdown",
   "metadata": {},
   "source": [
    "## Display Data\n",
    "Once our model has been fitted with data and is making predictions, we display the data using a confusion matrix to show the amount of True Positives, False Positives, True Negatives and False Negatives that our model has predicted. We also display some metrics about the model, which are as follows:\n",
    "- Accuracy: The percentage of all predictions (both \"yes\" and \"no\") that the model got correct.\n",
    "- Precision: Of all the cases where the model predicted \"yes,\" the percentage that were actually true positives.\n",
    "- Recall: Of all the actual \"yes\" cases in the data, the percentage that the model successfully identified.\n",
    "- F1-Score: A balanced percentile measure of the model's precision and recall.\n",
    "\n"
   ]
  },
  {
   "cell_type": "code",
   "execution_count": 58,
   "metadata": {
    "ExecuteTime": {
     "end_time": "2024-11-24T19:03:40.702866Z",
     "start_time": "2024-11-24T19:03:40.614506Z"
    }
   },
   "outputs": [
    {
     "data": {
      "image/png": "[encoded data removed]",
      "text/plain": [
       "<Figure size 640x480 with 2 Axes>"
      ]
     },
     "metadata": {},
     "output_type": "display_data"
    },
    {
     "name": "stdout",
     "output_type": "stream",
     "text": [
      "Accuracy: 0.65\n",
      "Precision: 0.69\n",
      "Recall: 0.54\n",
      "F1-Score: 0.61\n"
     ]
    }
   ],
   "source": [
    "cm = confusion_matrix(Y_test, Y_pred)\n",
    "\n",
    "cm_display = ConfusionMatrixDisplay(confusion_matrix=cm, display_labels=[\"No Disease\", \"Likely Disease\"])\n",
    "\n",
    "cm_display.plot(cmap=\"Greens\")  # Optional: specify color map\n",
    "plt.title(\"Cardiovascular Disease Detection Confusion Matrix\")  # Add title\n",
    "plt.show()\n",
    "\n",
    "print(f\"Accuracy: {accuracy_score(Y_test, Y_pred):.2f}\")\n",
    "print(f\"Precision: {precision_score(Y_test, Y_pred):.2f}\")\n",
    "print(f\"Recall: {recall_score(Y_test, Y_pred):.2f}\")\n",
    "print(f\"F1-Score: {f1_score(Y_test, Y_pred):.2f}\")"
   ]
  }
 ],
 "metadata": {
  "kernelspec": {
   "display_name": "Python 3",
   "language": "python",
   "name": "python3"
  },
  "language_info": {
   "codemirror_mode": {
    "name": "ipython",
    "version": 3
   },
   "file_extension": ".py",
   "mimetype": "text/x-python",
   "name": "python",
   "nbconvert_exporter": "python",
   "pygments_lexer": "ipython3",
   "version": "3.12.7"
  }
 },
 "nbformat": 4,
 "nbformat_minor": 2
}
