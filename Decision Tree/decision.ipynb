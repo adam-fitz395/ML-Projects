{
 "cells": [
  {
   "cell_type": "markdown",
   "metadata": {},
   "source": [
    "# Decision Tree"
   ]
  },
  {
   "cell_type": "markdown",
   "metadata": {},
   "source": [
    "## Imports\n",
    "In this section we import the libraries necessary to analyse our data."
   ]
  },
  {
   "cell_type": "code",
   "metadata": {
    "ExecuteTime": {
     "end_time": "2024-11-23T15:31:13.208538Z",
     "start_time": "2024-11-23T15:31:09.762500Z"
    }
   },
   "source": [
    "import pandas as pd\n",
    "from sklearn.ensemble import RandomForestClassifier\n",
    "from sklearn.model_selection import train_test_split, GridSearchCV\n",
    "from sklearn.tree import DecisionTreeClassifier, plot_tree\n",
    "from sklearn.preprocessing import LabelEncoder\n",
    "from sklearn.metrics import precision_score, recall_score, f1_score, accuracy_score, ConfusionMatrixDisplay"
   ],
   "outputs": [],
   "execution_count": 1
  },
  {
   "cell_type": "markdown",
   "metadata": {},
   "source": [
    "## Import & Pre-process Data\n",
    "https://www.kaggle.com/datasets/sulianova/cardiovascular-disease-dataset/data"
   ]
  },
  {
   "cell_type": "code",
   "metadata": {
    "ExecuteTime": {
     "end_time": "2024-11-23T15:31:14.749612Z",
     "start_time": "2024-11-23T15:31:13.322584Z"
    }
   },
   "source": [
    "# Read in data\n",
    "df=pd.read_csv(\"cardio_train.csv\", sep=\";\")\n",
    "\n",
    "# Drop unnecessary columns\n",
    "df = df.dropna(axis=0)\n",
    "df = df.drop('id', axis=1)\n",
    "\n",
    "# Drop weights below 40kg\n",
    "for weight in df['weight']:\n",
    "    if weight < 40:\n",
    "        df['weight'] = df['weight'].drop(axis=0, index=0)\n",
    "\n",
    "def categorize_weight(weight):\n",
    "    if 40 <= weight <= 60:\n",
    "        return '40 - 60'\n",
    "    elif 61 <= weight <= 80:\n",
    "        return '61 - 80'\n",
    "    elif 81 <= weight <= 100:\n",
    "        return '81 - 100'\n",
    "    else:\n",
    "        return '100+'\n",
    "\n",
    "df['weight_category'] = df['weight'].apply(categorize_weight)\n",
    "\n",
    "# Get average blood pressure using high and low values\n",
    "df['bp_mean'] = df[['ap_hi', 'ap_lo']].mean(axis=1)\n",
    "\n",
    "# Categorize average blood pressure for classification\n",
    "def categorize_bp(mean_bp):\n",
    "    if mean_bp > 120:\n",
    "        return 'High'\n",
    "    elif mean_bp >= 80:\n",
    "        return 'Normal'\n",
    "    else:\n",
    "        return 'Low'\n",
    "\n",
    "# Apply the categorization function\n",
    "df['bp_category'] = df['bp_mean'].apply(categorize_bp)\n",
    "\n",
    "# Convert ages to years\n",
    "df['ages_year'] = df['age'] // 365\n",
    "\n",
    "# Categorize ages into age groups\n",
    "def categorize_age(ages_year):\n",
    "    if ages_year < 18:\n",
    "        return 'Under 18'\n",
    "    elif 18 <= ages_year <= 21:\n",
    "        return '18-21'\n",
    "    elif 21 < ages_year <= 40:\n",
    "        return '21-40'\n",
    "    elif 40 < ages_year <= 60:\n",
    "        return '41-60'\n",
    "    elif 60 < ages_year <= 80:\n",
    "        return '61-80'\n",
    "    else:\n",
    "        return '80+'\n",
    "\n",
    "# Apply categorization \n",
    "df['age_category'] = df['ages_year'].apply(categorize_age)\n",
    "\n",
    "# Function to categorize height\n",
    "def categorize_height(height):\n",
    "    if height < 150:\n",
    "        return 'Short'\n",
    "    elif 150 <= height <= 170:\n",
    "        return 'Average'\n",
    "    elif 171 <= height <= 190:\n",
    "        return 'Tall'\n",
    "    else:\n",
    "        return 'Very Tall'\n",
    "\n",
    "# Apply categorization to height\n",
    "df['height_category'] = df['height'].apply(categorize_height)\n",
    "\n",
    "# Encode ages\n",
    "encoder = LabelEncoder()\n",
    "df['weight_category_encoded'] = encoder.fit_transform(df['weight_category'])\n",
    "df['bp_category_encoded'] = encoder.fit_transform(df['bp_category'])\n",
    "df['age_category_encoded'] = encoder.fit_transform(df['age_category'])\n",
    "df['height_category_encoded'] = encoder.fit_transform(df['height_category'])\n",
    "\n",
    "df.head()"
   ],
   "outputs": [
    {
     "data": {
      "text/plain": [
       "     age  gender  height  weight  ap_hi  ap_lo  cholesterol  gluc  smoke  \\\n",
       "0  18393       2     168     NaN    110     80            1     1      0   \n",
       "1  20228       1     156    85.0    140     90            3     1      0   \n",
       "2  18857       1     165    64.0    130     70            3     1      0   \n",
       "3  17623       2     169    82.0    150    100            1     1      0   \n",
       "4  17474       1     156    56.0    100     60            1     1      0   \n",
       "\n",
       "   alco  ...  weight_category  bp_mean bp_category  ages_year age_category  \\\n",
       "0     0  ...             100+     95.0      Normal         50        41-60   \n",
       "1     0  ...         81 - 100    115.0      Normal         55        41-60   \n",
       "2     0  ...          61 - 80    100.0      Normal         51        41-60   \n",
       "3     0  ...         81 - 100    125.0        High         48        41-60   \n",
       "4     0  ...          40 - 60     80.0      Normal         47        41-60   \n",
       "\n",
       "   height_category weight_category_encoded bp_category_encoded  \\\n",
       "0          Average                       0                   2   \n",
       "1          Average                       3                   2   \n",
       "2          Average                       2                   2   \n",
       "3          Average                       3                   0   \n",
       "4          Average                       1                   2   \n",
       "\n",
       "   age_category_encoded  height_category_encoded  \n",
       "0                     1                        0  \n",
       "1                     1                        0  \n",
       "2                     1                        0  \n",
       "3                     1                        0  \n",
       "4                     1                        0  \n",
       "\n",
       "[5 rows x 22 columns]"
      ],
      "text/html": [
       "<div>\n",
       "<style scoped>\n",
       "    .dataframe tbody tr th:only-of-type {\n",
       "        vertical-align: middle;\n",
       "    }\n",
       "\n",
       "    .dataframe tbody tr th {\n",
       "        vertical-align: top;\n",
       "    }\n",
       "\n",
       "    .dataframe thead th {\n",
       "        text-align: right;\n",
       "    }\n",
       "</style>\n",
       "<table border=\"1\" class=\"dataframe\">\n",
       "  <thead>\n",
       "    <tr style=\"text-align: right;\">\n",
       "      <th></th>\n",
       "      <th>age</th>\n",
       "      <th>gender</th>\n",
       "      <th>height</th>\n",
       "      <th>weight</th>\n",
       "      <th>ap_hi</th>\n",
       "      <th>ap_lo</th>\n",
       "      <th>cholesterol</th>\n",
       "      <th>gluc</th>\n",
       "      <th>smoke</th>\n",
       "      <th>alco</th>\n",
       "      <th>...</th>\n",
       "      <th>weight_category</th>\n",
       "      <th>bp_mean</th>\n",
       "      <th>bp_category</th>\n",
       "      <th>ages_year</th>\n",
       "      <th>age_category</th>\n",
       "      <th>height_category</th>\n",
       "      <th>weight_category_encoded</th>\n",
       "      <th>bp_category_encoded</th>\n",
       "      <th>age_category_encoded</th>\n",
       "      <th>height_category_encoded</th>\n",
       "    </tr>\n",
       "  </thead>\n",
       "  <tbody>\n",
       "    <tr>\n",
       "      <th>0</th>\n",
       "      <td>18393</td>\n",
       "      <td>2</td>\n",
       "      <td>168</td>\n",
       "      <td>NaN</td>\n",
       "      <td>110</td>\n",
       "      <td>80</td>\n",
       "      <td>1</td>\n",
       "      <td>1</td>\n",
       "      <td>0</td>\n",
       "      <td>0</td>\n",
       "      <td>...</td>\n",
       "      <td>100+</td>\n",
       "      <td>95.0</td>\n",
       "      <td>Normal</td>\n",
       "      <td>50</td>\n",
       "      <td>41-60</td>\n",
       "      <td>Average</td>\n",
       "      <td>0</td>\n",
       "      <td>2</td>\n",
       "      <td>1</td>\n",
       "      <td>0</td>\n",
       "    </tr>\n",
       "    <tr>\n",
       "      <th>1</th>\n",
       "      <td>20228</td>\n",
       "      <td>1</td>\n",
       "      <td>156</td>\n",
       "      <td>85.0</td>\n",
       "      <td>140</td>\n",
       "      <td>90</td>\n",
       "      <td>3</td>\n",
       "      <td>1</td>\n",
       "      <td>0</td>\n",
       "      <td>0</td>\n",
       "      <td>...</td>\n",
       "      <td>81 - 100</td>\n",
       "      <td>115.0</td>\n",
       "      <td>Normal</td>\n",
       "      <td>55</td>\n",
       "      <td>41-60</td>\n",
       "      <td>Average</td>\n",
       "      <td>3</td>\n",
       "      <td>2</td>\n",
       "      <td>1</td>\n",
       "      <td>0</td>\n",
       "    </tr>\n",
       "    <tr>\n",
       "      <th>2</th>\n",
       "      <td>18857</td>\n",
       "      <td>1</td>\n",
       "      <td>165</td>\n",
       "      <td>64.0</td>\n",
       "      <td>130</td>\n",
       "      <td>70</td>\n",
       "      <td>3</td>\n",
       "      <td>1</td>\n",
       "      <td>0</td>\n",
       "      <td>0</td>\n",
       "      <td>...</td>\n",
       "      <td>61 - 80</td>\n",
       "      <td>100.0</td>\n",
       "      <td>Normal</td>\n",
       "      <td>51</td>\n",
       "      <td>41-60</td>\n",
       "      <td>Average</td>\n",
       "      <td>2</td>\n",
       "      <td>2</td>\n",
       "      <td>1</td>\n",
       "      <td>0</td>\n",
       "    </tr>\n",
       "    <tr>\n",
       "      <th>3</th>\n",
       "      <td>17623</td>\n",
       "      <td>2</td>\n",
       "      <td>169</td>\n",
       "      <td>82.0</td>\n",
       "      <td>150</td>\n",
       "      <td>100</td>\n",
       "      <td>1</td>\n",
       "      <td>1</td>\n",
       "      <td>0</td>\n",
       "      <td>0</td>\n",
       "      <td>...</td>\n",
       "      <td>81 - 100</td>\n",
       "      <td>125.0</td>\n",
       "      <td>High</td>\n",
       "      <td>48</td>\n",
       "      <td>41-60</td>\n",
       "      <td>Average</td>\n",
       "      <td>3</td>\n",
       "      <td>0</td>\n",
       "      <td>1</td>\n",
       "      <td>0</td>\n",
       "    </tr>\n",
       "    <tr>\n",
       "      <th>4</th>\n",
       "      <td>17474</td>\n",
       "      <td>1</td>\n",
       "      <td>156</td>\n",
       "      <td>56.0</td>\n",
       "      <td>100</td>\n",
       "      <td>60</td>\n",
       "      <td>1</td>\n",
       "      <td>1</td>\n",
       "      <td>0</td>\n",
       "      <td>0</td>\n",
       "      <td>...</td>\n",
       "      <td>40 - 60</td>\n",
       "      <td>80.0</td>\n",
       "      <td>Normal</td>\n",
       "      <td>47</td>\n",
       "      <td>41-60</td>\n",
       "      <td>Average</td>\n",
       "      <td>1</td>\n",
       "      <td>2</td>\n",
       "      <td>1</td>\n",
       "      <td>0</td>\n",
       "    </tr>\n",
       "  </tbody>\n",
       "</table>\n",
       "<p>5 rows × 22 columns</p>\n",
       "</div>"
      ]
     },
     "execution_count": 2,
     "metadata": {},
     "output_type": "execute_result"
    }
   ],
   "execution_count": 2
  },
  {
   "cell_type": "markdown",
   "metadata": {},
   "source": [
    "## Fit Data"
   ]
  },
  {
   "cell_type": "code",
   "metadata": {
    "jupyter": {
     "is_executing": true
    },
    "ExecuteTime": {
     "start_time": "2024-11-23T15:31:15.218465Z"
    }
   },
   "source": [
    "# Split data into training and testing\n",
    "X = df[['gender', 'weight_category_encoded', 'height_category_encoded', 'age_category_encoded',  'bp_category_encoded', 'cholesterol', 'gluc', 'smoke', 'alco', 'active']]\n",
    "Y = df['cardio']\n",
    "X_train, X_test, Y_train, Y_test = train_test_split(X, Y, test_size=0.2)\n",
    "\n",
    "# Define parameter grid for tuning\n",
    "param_grid = {\n",
    "    'n_estimators': [100, 200, 300],         # Number of trees\n",
    "    'max_depth': [10, 20, 30, None],         # Depth of trees\n",
    "    'min_samples_split': [2, 5, 10],         # Min samples to split a node\n",
    "    'min_samples_leaf': [1, 2, 4],           # Min samples at leaf\n",
    "    'max_features': ['sqrt', 'log2', None],  # Number of features to consider\n",
    "    'bootstrap': [True, False]               # Use bootstrap sampling\n",
    "}\n",
    "\n",
    "tree = RandomForestClassifier()\n",
    "\n",
    "grid_search = GridSearchCV(estimator=tree, param_grid=param_grid,\n",
    "                           cv=5, n_jobs=-1, verbose=2, scoring='accuracy')\n",
    "grid_search.fit(X_train, Y_train)\n",
    "\n",
    "best_rf = grid_search.best_estimator_\n",
    "print(\"Best Parameters: \", grid_search.best_params_)\n",
    "# Define tree model and fit data\n",
    "tree.fit(X_train, Y_train)\n",
    "\n",
    "# Use tree to predict and display accuracy\n",
    "Y_pred = tree.predict(X_test)\n",
    "accuracy = accuracy_score(Y_test, Y_pred)"
   ],
   "outputs": [],
   "execution_count": null
  },
  {
   "cell_type": "markdown",
   "metadata": {},
   "source": [
    "## Display Data"
   ]
  },
  {
   "cell_type": "code",
   "metadata": {
    "ExecuteTime": {
     "end_time": "2024-11-23T15:28:13.741891243Z",
     "start_time": "2024-11-23T15:24:09.727478Z"
    }
   },
   "source": [
    "print(f\"Accuracy: {accuracy_score(Y_test, Y_pred):.2f}\")\n",
    "print(f\"Precision: {precision_score(Y_test, Y_pred):.2f}\")\n",
    "print(f\"Recall: {recall_score(Y_test, Y_pred):.2f}\")\n",
    "print(f\"F1-Score: {f1_score(Y_test, Y_pred):.2f}\")"
   ],
   "outputs": [
    {
     "name": "stdout",
     "output_type": "stream",
     "text": [
      "Accuracy: 0.66\n",
      "Precision: 0.69\n",
      "Recall: 0.56\n",
      "F1-Score: 0.62\n"
     ]
    }
   ],
   "execution_count": 86
  },
  {
   "metadata": {
    "ExecuteTime": {
     "end_time": "2024-11-23T15:28:13.743113713Z",
     "start_time": "2024-11-23T15:24:09.778909Z"
    }
   },
   "cell_type": "code",
   "source": "ConfusionMatrixDisplay.from_predictions(Y_test, Y_pred, cmap='Blues')",
   "outputs": [
    {
     "data": {
      "text/plain": [
       "<sklearn.metrics._plot.confusion_matrix.ConfusionMatrixDisplay at 0x7f12ae533340>"
      ]
     },
     "execution_count": 87,
     "metadata": {},
     "output_type": "execute_result"
    },
    {
     "data": {
      "text/plain": [
       "<Figure size 640x480 with 2 Axes>"
      ],
      "image/png": "[encoded data removed]"
     },
     "metadata": {},
     "output_type": "display_data"
    }
   ],
   "execution_count": 87
  }
 ],
 "metadata": {
  "kernelspec": {
   "display_name": "Python 3",
   "language": "python",
   "name": "python3"
  },
  "language_info": {
   "codemirror_mode": {
    "name": "ipython",
    "version": 3
   },
   "file_extension": ".py",
   "mimetype": "text/x-python",
   "name": "python",
   "nbconvert_exporter": "python",
   "pygments_lexer": "ipython3",
   "version": "3.12.7"
  }
 },
 "nbformat": 4,
 "nbformat_minor": 2
}
