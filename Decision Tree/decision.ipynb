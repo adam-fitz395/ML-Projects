{
 "cells": [
  {
   "cell_type": "markdown",
   "metadata": {},
   "source": [
    "# Decision Tree"
   ]
  },
  {
   "cell_type": "markdown",
   "metadata": {},
   "source": [
    "## Imports\n",
    "In this section we import the libraries necessary to analyse our data."
   ]
  },
  {
   "cell_type": "code",
   "metadata": {
    "ExecuteTime": {
     "end_time": "2024-11-23T23:02:08.924942Z",
     "start_time": "2024-11-23T23:02:08.921664Z"
    }
   },
   "source": [
    "import pandas as pd\n",
    "from sklearn.model_selection import train_test_split\n",
    "from sklearn.tree import DecisionTreeClassifier, plot_tree\n",
    "from sklearn.ensemble import RandomForestClassifier\n",
    "from sklearn.preprocessing import LabelEncoder\n",
    "from sklearn.metrics import precision_score, recall_score, f1_score, accuracy_score, ConfusionMatrixDisplay\n",
    "import matplotlib.pyplot as plt"
   ],
   "outputs": [],
   "execution_count": 170
  },
  {
   "cell_type": "markdown",
   "metadata": {},
   "source": [
    "## Import & Pre-process Data\n",
    "The first thing we do is read in our data. This data can be found at https://www.kaggle.com/datasets/sulianova/cardiovascular-disease-dataset/data. Once we've done this we drop all rows with empty values and the `id` column as it is not necessary for this model. After dropping any unnecessary data, we take the `weight`, `ap_hi`, `ap_low` and `age` columns and convert them to be categorical.\n",
    "\n",
    "For the `weight` column we firstly drop all weights below 40KG as any weight below this would be unrealistic. After this we split the weights into 4 different categories: \"40 - 60\", \"61 - 80\", \"81 - 100\" and \"100+\". We then apply these categories to the data inside the `weight` column.\n",
    "\n",
    "With the `ap_hi` and `ap_low` columns we first get the average blood pressure by getting the mean value of the two columns combined. After this we categorize the data with a \"High\" blood pressure being above 120, \"Medium\" being between 80 and 120 and 'Low' being under 80.\n",
    "\n",
    "For the `ages` column we first divide the column by 365 to convert the data from days into years. After this we once again split the data into the categories \"Under 18\", \"18 - 21\", \"21 - 40\", \"41 - 60\", \"61 - 80\" and \"80+\".\n",
    "\n",
    "Finally, we categorize the `height` column into,"
   ]
  },
  {
   "cell_type": "code",
   "metadata": {
    "ExecuteTime": {
     "end_time": "2024-11-23T23:02:09.038886Z",
     "start_time": "2024-11-23T23:02:08.946887Z"
    }
   },
   "source": [
    "# Read in data\n",
    "df=pd.read_csv(\"cardio_train.csv\", sep=\";\")\n",
    "\n",
    "# Drop unnecessary columns\n",
    "df = df.dropna(axis=0)\n",
    "df = df.drop('id', axis=1)\n",
    "\n",
    "# Ensure height is in meters\n",
    "df['height_m'] = df['height'] / 100\n",
    "\n",
    "# Calculate BMI\n",
    "df['BMI'] = df['weight'] / (df['height_m'] ** 2)\n",
    "\n",
    "# Drop the temporary height_m column if not needed\n",
    "df = df.drop(columns=['height_m'])\n",
    "\n",
    "# Optionally categorize BMI (e.g., underweight, normal, overweight, obese)\n",
    "def categorize_bmi(bmi):\n",
    "    if bmi < 18.5:\n",
    "        return 'Underweight'\n",
    "    elif 18.5 <= bmi < 25:\n",
    "        return 'Normal'\n",
    "    elif 25 <= bmi < 30:\n",
    "        return 'Overweight'\n",
    "    else:\n",
    "        return 'Obese'\n",
    "\n",
    "df['BMI_category'] = df['BMI'].apply(categorize_bmi)\n",
    "\n",
    "# Get average blood pressure using high and low values\n",
    "df['bp_mean'] = df[['ap_hi', 'ap_lo']].mean(axis=1)\n",
    "\n",
    "# Categorize average blood pressure for classification\n",
    "def categorize_bp(mean_bp):\n",
    "    if mean_bp > 120:\n",
    "        return 'High'\n",
    "    elif mean_bp >= 80:\n",
    "        return 'Normal'\n",
    "    else:\n",
    "        return 'Low'\n",
    "\n",
    "# Apply the categorization function\n",
    "df['bp_category'] = df['bp_mean'].apply(categorize_bp)\n",
    "\n",
    "# Convert ages to years\n",
    "df['ages_year'] = df['age'] // 365\n",
    "\n",
    "# Categorize ages into age groups\n",
    "def categorize_age(ages_year):\n",
    "    if ages_year < 18:\n",
    "        return 'Under 18'\n",
    "    elif 18 <= ages_year <= 21:\n",
    "        return '18 - 21'\n",
    "    elif 21 < ages_year <= 40:\n",
    "        return '21 - 40'\n",
    "    elif 40 < ages_year <= 60:\n",
    "        return '41 - 60'\n",
    "    elif 60 < ages_year <= 80:\n",
    "        return '61 - 80'\n",
    "    else:\n",
    "        return '80+'\n",
    "\n",
    "# Apply categorization \n",
    "df['age_category'] = df['ages_year'].apply(categorize_age)\n",
    "\n",
    "# Encode ages\n",
    "encoder = LabelEncoder()\n",
    "df['BMI_category_encoded'] = LabelEncoder().fit_transform(df['BMI_category'])\n",
    "df['bp_category_encoded'] = encoder.fit_transform(df['bp_category'])\n",
    "df['age_category_encoded'] = encoder.fit_transform(df['age_category'])\n",
    "\n",
    "df.head()"
   ],
   "outputs": [
    {
     "data": {
      "text/plain": [
       "     age  gender  height  weight  ap_hi  ap_lo  cholesterol  gluc  smoke  \\\n",
       "0  18393       2     168    62.0    110     80            1     1      0   \n",
       "1  20228       1     156    85.0    140     90            3     1      0   \n",
       "2  18857       1     165    64.0    130     70            3     1      0   \n",
       "3  17623       2     169    82.0    150    100            1     1      0   \n",
       "4  17474       1     156    56.0    100     60            1     1      0   \n",
       "\n",
       "   alco  ...  cardio        BMI  BMI_category bp_mean  bp_category ages_year  \\\n",
       "0     0  ...       0  21.967120        Normal    95.0       Normal        50   \n",
       "1     0  ...       1  34.927679         Obese   115.0       Normal        55   \n",
       "2     0  ...       1  23.507805        Normal   100.0       Normal        51   \n",
       "3     0  ...       1  28.710479    Overweight   125.0         High        48   \n",
       "4     0  ...       0  23.011177        Normal    80.0       Normal        47   \n",
       "\n",
       "   age_category BMI_category_encoded  bp_category_encoded  \\\n",
       "0       41 - 60                    0                    2   \n",
       "1       41 - 60                    1                    2   \n",
       "2       41 - 60                    0                    2   \n",
       "3       41 - 60                    2                    0   \n",
       "4       41 - 60                    0                    2   \n",
       "\n",
       "   age_category_encoded  \n",
       "0                     1  \n",
       "1                     1  \n",
       "2                     1  \n",
       "3                     1  \n",
       "4                     1  \n",
       "\n",
       "[5 rows x 21 columns]"
      ],
      "text/html": [
       "<div>\n",
       "<style scoped>\n",
       "    .dataframe tbody tr th:only-of-type {\n",
       "        vertical-align: middle;\n",
       "    }\n",
       "\n",
       "    .dataframe tbody tr th {\n",
       "        vertical-align: top;\n",
       "    }\n",
       "\n",
       "    .dataframe thead th {\n",
       "        text-align: right;\n",
       "    }\n",
       "</style>\n",
       "<table border=\"1\" class=\"dataframe\">\n",
       "  <thead>\n",
       "    <tr style=\"text-align: right;\">\n",
       "      <th></th>\n",
       "      <th>age</th>\n",
       "      <th>gender</th>\n",
       "      <th>height</th>\n",
       "      <th>weight</th>\n",
       "      <th>ap_hi</th>\n",
       "      <th>ap_lo</th>\n",
       "      <th>cholesterol</th>\n",
       "      <th>gluc</th>\n",
       "      <th>smoke</th>\n",
       "      <th>alco</th>\n",
       "      <th>...</th>\n",
       "      <th>cardio</th>\n",
       "      <th>BMI</th>\n",
       "      <th>BMI_category</th>\n",
       "      <th>bp_mean</th>\n",
       "      <th>bp_category</th>\n",
       "      <th>ages_year</th>\n",
       "      <th>age_category</th>\n",
       "      <th>BMI_category_encoded</th>\n",
       "      <th>bp_category_encoded</th>\n",
       "      <th>age_category_encoded</th>\n",
       "    </tr>\n",
       "  </thead>\n",
       "  <tbody>\n",
       "    <tr>\n",
       "      <th>0</th>\n",
       "      <td>18393</td>\n",
       "      <td>2</td>\n",
       "      <td>168</td>\n",
       "      <td>62.0</td>\n",
       "      <td>110</td>\n",
       "      <td>80</td>\n",
       "      <td>1</td>\n",
       "      <td>1</td>\n",
       "      <td>0</td>\n",
       "      <td>0</td>\n",
       "      <td>...</td>\n",
       "      <td>0</td>\n",
       "      <td>21.967120</td>\n",
       "      <td>Normal</td>\n",
       "      <td>95.0</td>\n",
       "      <td>Normal</td>\n",
       "      <td>50</td>\n",
       "      <td>41 - 60</td>\n",
       "      <td>0</td>\n",
       "      <td>2</td>\n",
       "      <td>1</td>\n",
       "    </tr>\n",
       "    <tr>\n",
       "      <th>1</th>\n",
       "      <td>20228</td>\n",
       "      <td>1</td>\n",
       "      <td>156</td>\n",
       "      <td>85.0</td>\n",
       "      <td>140</td>\n",
       "      <td>90</td>\n",
       "      <td>3</td>\n",
       "      <td>1</td>\n",
       "      <td>0</td>\n",
       "      <td>0</td>\n",
       "      <td>...</td>\n",
       "      <td>1</td>\n",
       "      <td>34.927679</td>\n",
       "      <td>Obese</td>\n",
       "      <td>115.0</td>\n",
       "      <td>Normal</td>\n",
       "      <td>55</td>\n",
       "      <td>41 - 60</td>\n",
       "      <td>1</td>\n",
       "      <td>2</td>\n",
       "      <td>1</td>\n",
       "    </tr>\n",
       "    <tr>\n",
       "      <th>2</th>\n",
       "      <td>18857</td>\n",
       "      <td>1</td>\n",
       "      <td>165</td>\n",
       "      <td>64.0</td>\n",
       "      <td>130</td>\n",
       "      <td>70</td>\n",
       "      <td>3</td>\n",
       "      <td>1</td>\n",
       "      <td>0</td>\n",
       "      <td>0</td>\n",
       "      <td>...</td>\n",
       "      <td>1</td>\n",
       "      <td>23.507805</td>\n",
       "      <td>Normal</td>\n",
       "      <td>100.0</td>\n",
       "      <td>Normal</td>\n",
       "      <td>51</td>\n",
       "      <td>41 - 60</td>\n",
       "      <td>0</td>\n",
       "      <td>2</td>\n",
       "      <td>1</td>\n",
       "    </tr>\n",
       "    <tr>\n",
       "      <th>3</th>\n",
       "      <td>17623</td>\n",
       "      <td>2</td>\n",
       "      <td>169</td>\n",
       "      <td>82.0</td>\n",
       "      <td>150</td>\n",
       "      <td>100</td>\n",
       "      <td>1</td>\n",
       "      <td>1</td>\n",
       "      <td>0</td>\n",
       "      <td>0</td>\n",
       "      <td>...</td>\n",
       "      <td>1</td>\n",
       "      <td>28.710479</td>\n",
       "      <td>Overweight</td>\n",
       "      <td>125.0</td>\n",
       "      <td>High</td>\n",
       "      <td>48</td>\n",
       "      <td>41 - 60</td>\n",
       "      <td>2</td>\n",
       "      <td>0</td>\n",
       "      <td>1</td>\n",
       "    </tr>\n",
       "    <tr>\n",
       "      <th>4</th>\n",
       "      <td>17474</td>\n",
       "      <td>1</td>\n",
       "      <td>156</td>\n",
       "      <td>56.0</td>\n",
       "      <td>100</td>\n",
       "      <td>60</td>\n",
       "      <td>1</td>\n",
       "      <td>1</td>\n",
       "      <td>0</td>\n",
       "      <td>0</td>\n",
       "      <td>...</td>\n",
       "      <td>0</td>\n",
       "      <td>23.011177</td>\n",
       "      <td>Normal</td>\n",
       "      <td>80.0</td>\n",
       "      <td>Normal</td>\n",
       "      <td>47</td>\n",
       "      <td>41 - 60</td>\n",
       "      <td>0</td>\n",
       "      <td>2</td>\n",
       "      <td>1</td>\n",
       "    </tr>\n",
       "  </tbody>\n",
       "</table>\n",
       "<p>5 rows × 21 columns</p>\n",
       "</div>"
      ]
     },
     "execution_count": 171,
     "metadata": {},
     "output_type": "execute_result"
    }
   ],
   "execution_count": 171
  },
  {
   "cell_type": "markdown",
   "metadata": {},
   "source": [
    "## Fit Data"
   ]
  },
  {
   "cell_type": "code",
   "metadata": {
    "ExecuteTime": {
     "end_time": "2024-11-23T23:02:09.824026Z",
     "start_time": "2024-11-23T23:02:09.058450Z"
    }
   },
   "source": [
    "# Split data into training and testing\n",
    "X = df[['BMI_category_encoded', 'age_category_encoded',  'bp_category_encoded', 'cholesterol', 'gluc', 'smoke', 'alco', 'active']]\n",
    "Y = df['cardio']\n",
    "X_train, X_test, Y_train, Y_test = train_test_split(X, Y, test_size=0.2)\n",
    "\n",
    "# Create decision tree model and fit data\n",
    "tree = RandomForestClassifier()\n",
    "tree.fit(X_train, Y_train)  # Fit the model using training data\n",
    "\n",
    "# Use tree to predict and display accuracy\n",
    "Y_pred = tree.predict(X_test)\n",
    "accuracy = accuracy_score(Y_test, Y_pred)"
   ],
   "outputs": [],
   "execution_count": 172
  },
  {
   "metadata": {
    "ExecuteTime": {
     "end_time": "2024-11-23T23:02:09.846064Z",
     "start_time": "2024-11-23T23:02:09.844313Z"
    }
   },
   "cell_type": "code",
   "source": "",
   "outputs": [],
   "execution_count": null
  },
  {
   "cell_type": "markdown",
   "metadata": {},
   "source": [
    "## Display Data\n",
    "Once our model has been fitted with data and is making predictions, we display the data using a confusion matrix to show the amount of True Positives, False Positives, True Negatives and False Negatives that our decision tree has predicted. We display some metrics about the model, which are as follows:\n",
    "- Accuracy: The percentage of all predictions (both \"yes\" and \"no\") that the model got correct.\n",
    "- Precision: Of all the cases where the model predicted \"yes,\" the percentage that were actually true positives.\n",
    "- Recall: Of all the actual \"yes\" cases in the data, the percentage that the model successfully identified.\n",
    "- F1-Score: A balanced percentile measure of the model's precision and recall.\n",
    "\n"
   ]
  },
  {
   "cell_type": "code",
   "metadata": {
    "ExecuteTime": {
     "end_time": "2024-11-23T23:02:09.968061Z",
     "start_time": "2024-11-23T23:02:09.886060Z"
    }
   },
   "source": [
    "print(f\"Accuracy: {accuracy_score(Y_test, Y_pred):.2f}\")\n",
    "print(f\"Precision: {precision_score(Y_test, Y_pred):.2f}\")\n",
    "print(f\"Recall: {recall_score(Y_test, Y_pred):.2f}\")\n",
    "print(f\"F1-Score: {f1_score(Y_test, Y_pred):.2f}\")\n",
    "\n",
    "ConfusionMatrixDisplay.from_predictions(Y_test, Y_pred, cmap='Reds')"
   ],
   "outputs": [
    {
     "name": "stdout",
     "output_type": "stream",
     "text": [
      "Accuracy: 0.65\n",
      "Precision: 0.70\n",
      "Recall: 0.53\n",
      "F1-Score: 0.60\n"
     ]
    },
    {
     "data": {
      "text/plain": [
       "<sklearn.metrics._plot.confusion_matrix.ConfusionMatrixDisplay at 0x26ef5d9abd0>"
      ]
     },
     "execution_count": 173,
     "metadata": {},
     "output_type": "execute_result"
    },
    {
     "data": {
      "text/plain": [
       "<Figure size 640x480 with 2 Axes>"
      ],
      "image/png": "[encoded data removed]"
     },
     "metadata": {},
     "output_type": "display_data"
    }
   ],
   "execution_count": 173
  },
  {
   "metadata": {
    "ExecuteTime": {
     "end_time": "2024-11-23T23:02:10.009640Z",
     "start_time": "2024-11-23T23:02:09.982658Z"
    }
   },
   "cell_type": "code",
   "source": [
    "plt.figure(figsize=(20, 10))  # Set the size of the figure\n",
    "plot_tree(\n",
    "    tree,\n",
    "    feature_names=X.columns,    # Use feature names from the dataset\n",
    "    class_names=['No Cardiovascular Disease', 'Cardiovascular Disease'],  # Classes\n",
    "    filled=True,                # Color the nodes\n",
    "    rounded=True,               # Rounded corners for better aesthetics\n",
    "    fontsize=12                 # Adjust font size\n",
    ")\n",
    "plt.title(\"Decision Tree Visualization\", fontsize=16)\n",
    "plt.show()"
   ],
   "outputs": [
    {
     "ename": "InvalidParameterError",
     "evalue": "The 'decision_tree' parameter of plot_tree must be an instance of 'sklearn.tree._classes.DecisionTreeClassifier' or an instance of 'sklearn.tree._classes.DecisionTreeRegressor'. Got RandomForestClassifier() instead.",
     "output_type": "error",
     "traceback": [
      "\u001B[1;31m---------------------------------------------------------------------------\u001B[0m",
      "\u001B[1;31mInvalidParameterError\u001B[0m                     Traceback (most recent call last)",
      "Cell \u001B[1;32mIn[174], line 2\u001B[0m\n\u001B[0;32m      1\u001B[0m plt\u001B[38;5;241m.\u001B[39mfigure(figsize\u001B[38;5;241m=\u001B[39m(\u001B[38;5;241m20\u001B[39m, \u001B[38;5;241m10\u001B[39m))  \u001B[38;5;66;03m# Set the size of the figure\u001B[39;00m\n\u001B[1;32m----> 2\u001B[0m \u001B[43mplot_tree\u001B[49m\u001B[43m(\u001B[49m\n\u001B[0;32m      3\u001B[0m \u001B[43m    \u001B[49m\u001B[43mtree\u001B[49m\u001B[43m,\u001B[49m\n\u001B[0;32m      4\u001B[0m \u001B[43m    \u001B[49m\u001B[43mfeature_names\u001B[49m\u001B[38;5;241;43m=\u001B[39;49m\u001B[43mX\u001B[49m\u001B[38;5;241;43m.\u001B[39;49m\u001B[43mcolumns\u001B[49m\u001B[43m,\u001B[49m\u001B[43m    \u001B[49m\u001B[38;5;66;43;03m# Use feature names from the dataset\u001B[39;49;00m\n\u001B[0;32m      5\u001B[0m \u001B[43m    \u001B[49m\u001B[43mclass_names\u001B[49m\u001B[38;5;241;43m=\u001B[39;49m\u001B[43m[\u001B[49m\u001B[38;5;124;43m'\u001B[39;49m\u001B[38;5;124;43mNo Cardiovascular Disease\u001B[39;49m\u001B[38;5;124;43m'\u001B[39;49m\u001B[43m,\u001B[49m\u001B[43m \u001B[49m\u001B[38;5;124;43m'\u001B[39;49m\u001B[38;5;124;43mCardiovascular Disease\u001B[39;49m\u001B[38;5;124;43m'\u001B[39;49m\u001B[43m]\u001B[49m\u001B[43m,\u001B[49m\u001B[43m  \u001B[49m\u001B[38;5;66;43;03m# Classes\u001B[39;49;00m\n\u001B[0;32m      6\u001B[0m \u001B[43m    \u001B[49m\u001B[43mfilled\u001B[49m\u001B[38;5;241;43m=\u001B[39;49m\u001B[38;5;28;43;01mTrue\u001B[39;49;00m\u001B[43m,\u001B[49m\u001B[43m                \u001B[49m\u001B[38;5;66;43;03m# Color the nodes\u001B[39;49;00m\n\u001B[0;32m      7\u001B[0m \u001B[43m    \u001B[49m\u001B[43mrounded\u001B[49m\u001B[38;5;241;43m=\u001B[39;49m\u001B[38;5;28;43;01mTrue\u001B[39;49;00m\u001B[43m,\u001B[49m\u001B[43m               \u001B[49m\u001B[38;5;66;43;03m# Rounded corners for better aesthetics\u001B[39;49;00m\n\u001B[0;32m      8\u001B[0m \u001B[43m    \u001B[49m\u001B[43mfontsize\u001B[49m\u001B[38;5;241;43m=\u001B[39;49m\u001B[38;5;241;43m12\u001B[39;49m\u001B[43m                 \u001B[49m\u001B[38;5;66;43;03m# Adjust font size\u001B[39;49;00m\n\u001B[0;32m      9\u001B[0m \u001B[43m)\u001B[49m\n\u001B[0;32m     10\u001B[0m plt\u001B[38;5;241m.\u001B[39mtitle(\u001B[38;5;124m\"\u001B[39m\u001B[38;5;124mDecision Tree Visualization\u001B[39m\u001B[38;5;124m\"\u001B[39m, fontsize\u001B[38;5;241m=\u001B[39m\u001B[38;5;241m16\u001B[39m)\n\u001B[0;32m     11\u001B[0m plt\u001B[38;5;241m.\u001B[39mshow()\n",
      "File \u001B[1;32m~\\AppData\\Local\\Packages\\PythonSoftwareFoundation.Python.3.12_qbz5n2kfra8p0\\LocalCache\\local-packages\\Python312\\site-packages\\sklearn\\utils\\_param_validation.py:203\u001B[0m, in \u001B[0;36mvalidate_params.<locals>.decorator.<locals>.wrapper\u001B[1;34m(*args, **kwargs)\u001B[0m\n\u001B[0;32m    200\u001B[0m to_ignore \u001B[38;5;241m+\u001B[39m\u001B[38;5;241m=\u001B[39m [\u001B[38;5;124m\"\u001B[39m\u001B[38;5;124mself\u001B[39m\u001B[38;5;124m\"\u001B[39m, \u001B[38;5;124m\"\u001B[39m\u001B[38;5;124mcls\u001B[39m\u001B[38;5;124m\"\u001B[39m]\n\u001B[0;32m    201\u001B[0m params \u001B[38;5;241m=\u001B[39m {k: v \u001B[38;5;28;01mfor\u001B[39;00m k, v \u001B[38;5;129;01min\u001B[39;00m params\u001B[38;5;241m.\u001B[39marguments\u001B[38;5;241m.\u001B[39mitems() \u001B[38;5;28;01mif\u001B[39;00m k \u001B[38;5;129;01mnot\u001B[39;00m \u001B[38;5;129;01min\u001B[39;00m to_ignore}\n\u001B[1;32m--> 203\u001B[0m \u001B[43mvalidate_parameter_constraints\u001B[49m\u001B[43m(\u001B[49m\n\u001B[0;32m    204\u001B[0m \u001B[43m    \u001B[49m\u001B[43mparameter_constraints\u001B[49m\u001B[43m,\u001B[49m\u001B[43m \u001B[49m\u001B[43mparams\u001B[49m\u001B[43m,\u001B[49m\u001B[43m \u001B[49m\u001B[43mcaller_name\u001B[49m\u001B[38;5;241;43m=\u001B[39;49m\u001B[43mfunc\u001B[49m\u001B[38;5;241;43m.\u001B[39;49m\u001B[38;5;18;43m__qualname__\u001B[39;49m\n\u001B[0;32m    205\u001B[0m \u001B[43m\u001B[49m\u001B[43m)\u001B[49m\n\u001B[0;32m    207\u001B[0m \u001B[38;5;28;01mtry\u001B[39;00m:\n\u001B[0;32m    208\u001B[0m     \u001B[38;5;28;01mwith\u001B[39;00m config_context(\n\u001B[0;32m    209\u001B[0m         skip_parameter_validation\u001B[38;5;241m=\u001B[39m(\n\u001B[0;32m    210\u001B[0m             prefer_skip_nested_validation \u001B[38;5;129;01mor\u001B[39;00m global_skip_validation\n\u001B[0;32m    211\u001B[0m         )\n\u001B[0;32m    212\u001B[0m     ):\n",
      "File \u001B[1;32m~\\AppData\\Local\\Packages\\PythonSoftwareFoundation.Python.3.12_qbz5n2kfra8p0\\LocalCache\\local-packages\\Python312\\site-packages\\sklearn\\utils\\_param_validation.py:95\u001B[0m, in \u001B[0;36mvalidate_parameter_constraints\u001B[1;34m(parameter_constraints, params, caller_name)\u001B[0m\n\u001B[0;32m     89\u001B[0m \u001B[38;5;28;01melse\u001B[39;00m:\n\u001B[0;32m     90\u001B[0m     constraints_str \u001B[38;5;241m=\u001B[39m (\n\u001B[0;32m     91\u001B[0m         \u001B[38;5;124mf\u001B[39m\u001B[38;5;124m\"\u001B[39m\u001B[38;5;132;01m{\u001B[39;00m\u001B[38;5;124m'\u001B[39m\u001B[38;5;124m, \u001B[39m\u001B[38;5;124m'\u001B[39m\u001B[38;5;241m.\u001B[39mjoin([\u001B[38;5;28mstr\u001B[39m(c)\u001B[38;5;250m \u001B[39m\u001B[38;5;28;01mfor\u001B[39;00m\u001B[38;5;250m \u001B[39mc\u001B[38;5;250m \u001B[39m\u001B[38;5;129;01min\u001B[39;00m\u001B[38;5;250m \u001B[39mconstraints[:\u001B[38;5;241m-\u001B[39m\u001B[38;5;241m1\u001B[39m]])\u001B[38;5;132;01m}\u001B[39;00m\u001B[38;5;124m or\u001B[39m\u001B[38;5;124m\"\u001B[39m\n\u001B[0;32m     92\u001B[0m         \u001B[38;5;124mf\u001B[39m\u001B[38;5;124m\"\u001B[39m\u001B[38;5;124m \u001B[39m\u001B[38;5;132;01m{\u001B[39;00mconstraints[\u001B[38;5;241m-\u001B[39m\u001B[38;5;241m1\u001B[39m]\u001B[38;5;132;01m}\u001B[39;00m\u001B[38;5;124m\"\u001B[39m\n\u001B[0;32m     93\u001B[0m     )\n\u001B[1;32m---> 95\u001B[0m \u001B[38;5;28;01mraise\u001B[39;00m InvalidParameterError(\n\u001B[0;32m     96\u001B[0m     \u001B[38;5;124mf\u001B[39m\u001B[38;5;124m\"\u001B[39m\u001B[38;5;124mThe \u001B[39m\u001B[38;5;132;01m{\u001B[39;00mparam_name\u001B[38;5;132;01m!r}\u001B[39;00m\u001B[38;5;124m parameter of \u001B[39m\u001B[38;5;132;01m{\u001B[39;00mcaller_name\u001B[38;5;132;01m}\u001B[39;00m\u001B[38;5;124m must be\u001B[39m\u001B[38;5;124m\"\u001B[39m\n\u001B[0;32m     97\u001B[0m     \u001B[38;5;124mf\u001B[39m\u001B[38;5;124m\"\u001B[39m\u001B[38;5;124m \u001B[39m\u001B[38;5;132;01m{\u001B[39;00mconstraints_str\u001B[38;5;132;01m}\u001B[39;00m\u001B[38;5;124m. Got \u001B[39m\u001B[38;5;132;01m{\u001B[39;00mparam_val\u001B[38;5;132;01m!r}\u001B[39;00m\u001B[38;5;124m instead.\u001B[39m\u001B[38;5;124m\"\u001B[39m\n\u001B[0;32m     98\u001B[0m )\n",
      "\u001B[1;31mInvalidParameterError\u001B[0m: The 'decision_tree' parameter of plot_tree must be an instance of 'sklearn.tree._classes.DecisionTreeClassifier' or an instance of 'sklearn.tree._classes.DecisionTreeRegressor'. Got RandomForestClassifier() instead."
     ]
    },
    {
     "data": {
      "text/plain": [
       "<Figure size 2000x1000 with 0 Axes>"
      ]
     },
     "metadata": {},
     "output_type": "display_data"
    }
   ],
   "execution_count": 174
  }
 ],
 "metadata": {
  "kernelspec": {
   "display_name": "Python 3",
   "language": "python",
   "name": "python3"
  },
  "language_info": {
   "codemirror_mode": {
    "name": "ipython",
    "version": 3
   },
   "file_extension": ".py",
   "mimetype": "text/x-python",
   "name": "python",
   "nbconvert_exporter": "python",
   "pygments_lexer": "ipython3",
   "version": "3.12.7"
  }
 },
 "nbformat": 4,
 "nbformat_minor": 2
}
